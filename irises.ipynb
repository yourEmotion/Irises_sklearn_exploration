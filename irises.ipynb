{
  "nbformat": 4,
  "nbformat_minor": 0,
  "metadata": {
    "colab": {
      "provenance": [],
      "authorship_tag": "ABX9TyOHpg5iYtmRUehHkyz5Zxo/",
      "include_colab_link": true
    },
    "kernelspec": {
      "name": "python3",
      "display_name": "Python 3"
    },
    "language_info": {
      "name": "python"
    }
  },
  "cells": [
    {
      "cell_type": "markdown",
      "metadata": {
        "id": "view-in-github",
        "colab_type": "text"
      },
      "source": [
        "<a href=\"https://colab.research.google.com/github/yourEmotion/Irises_sklearn_exploration/blob/main/irises.ipynb\" target=\"_parent\"><img src=\"https://colab.research.google.com/assets/colab-badge.svg\" alt=\"Open In Colab\"/></a>"
      ]
    },
    {
      "cell_type": "markdown",
      "source": [
        "## В этом ноутбуке изучены основные модели для решения задач классификации на примере *ирисов Фишера*."
      ],
      "metadata": {
        "id": "0Be73ZLH5wgR"
      }
    },
    {
      "cell_type": "code",
      "execution_count": null,
      "metadata": {
        "id": "ubYLmK5m5rAr"
      },
      "outputs": [],
      "source": [
        "import matplotlib.pyplot as plt\n",
        "%matplotlib inline\n",
        "\n",
        "import numpy as np\n",
        "from sklearn.datasets import load_iris"
      ]
    },
    {
      "cell_type": "code",
      "source": [
        "dataset = load_iris()\n",
        "X = dataset.data\n",
        "y = dataset.target"
      ],
      "metadata": {
        "id": "tuOmoOcR6VbJ"
      },
      "execution_count": null,
      "outputs": []
    },
    {
      "cell_type": "code",
      "source": [
        "from sklearn.model_selection import train_test_split\n",
        "\n",
        "X_train, X_test, y_train, y_test = train_test_split(X, y, train_size=0.8, random_state=12)"
      ],
      "metadata": {
        "id": "fO386AOM6uH3"
      },
      "execution_count": null,
      "outputs": []
    },
    {
      "cell_type": "code",
      "source": [
        "from sklearn.preprocessing import StandardScaler\n",
        "\n",
        "std_scaler = StandardScaler()\n",
        "\n",
        "X_train_scaled = std_scaler.fit_transform(X_train)\n",
        "X_test_scaled = std_scaler.transform(X_test)"
      ],
      "metadata": {
        "id": "IfaZ9zYn7ZGN"
      },
      "execution_count": null,
      "outputs": []
    },
    {
      "cell_type": "markdown",
      "source": [
        "**KNeighborsClassifier**"
      ],
      "metadata": {
        "id": "sNNUaiOu9ZUz"
      }
    },
    {
      "cell_type": "code",
      "source": [
        "from sklearn.neighbors import KNeighborsClassifier\n",
        "\n",
        "knn = KNeighborsClassifier(n_neighbors=5)\n",
        "\n",
        "knn.fit(X_train_scaled, y_train)\n",
        "y_pred = knn.predict(X_test_scaled)\n",
        "\n",
        "print('Доля совпавших предсказаний: {}'.format(sum(y_pred == y_test) / len(y_pred)))"
      ],
      "metadata": {
        "colab": {
          "base_uri": "https://localhost:8080/"
        },
        "id": "IOmZAnWX7Ey4",
        "outputId": "c3ba67e8-e016-4911-e4af-912beaded454"
      },
      "execution_count": null,
      "outputs": [
        {
          "output_type": "stream",
          "name": "stdout",
          "text": [
            "Доля совпавших предсказаний: 0.9666666666666667\n"
          ]
        }
      ]
    },
    {
      "cell_type": "markdown",
      "source": [
        "**LogisticRegression**"
      ],
      "metadata": {
        "id": "XbLq5YQU9e6Y"
      }
    },
    {
      "cell_type": "code",
      "source": [
        "from sklearn.linear_model import LogisticRegression\n",
        "\n",
        "log_regr = LogisticRegression(max_iter=100)\n",
        "\n",
        "log_regr.fit(X_train_scaled, y_train)\n",
        "y_pred = log_regr.predict(X_test_scaled)\n",
        "\n",
        "print('Доля совпавших предсказаний: {}'.format(sum(y_pred == y_test) / len(y_pred)))"
      ],
      "metadata": {
        "colab": {
          "base_uri": "https://localhost:8080/"
        },
        "id": "VyMKlC1r9lGG",
        "outputId": "ac5fe3ac-60c4-4bac-d5de-15cd148e3f47"
      },
      "execution_count": null,
      "outputs": [
        {
          "output_type": "stream",
          "name": "stdout",
          "text": [
            "Доля совпавших предсказаний: 0.9666666666666667\n"
          ]
        }
      ]
    },
    {
      "cell_type": "markdown",
      "source": [
        "**DecisionTreeClassifier**"
      ],
      "metadata": {
        "id": "t5fBLuD4ohQh"
      }
    },
    {
      "cell_type": "code",
      "source": [
        "from sklearn.tree import DecisionTreeClassifier\n",
        "\n",
        "tree = DecisionTreeClassifier(max_depth=4)\n",
        "\n",
        "tree.fit(X_train_scaled, y_train)\n",
        "y_pred = tree.predict(X_test_scaled)\n",
        "\n",
        "print('Доля совпавших предсказаний: {}'.format(sum(y_pred == y_test) / len(y_pred)))"
      ],
      "metadata": {
        "colab": {
          "base_uri": "https://localhost:8080/"
        },
        "id": "EfsoCQDeonvL",
        "outputId": "99d98044-490f-4146-88f9-169fc5ea7111"
      },
      "execution_count": null,
      "outputs": [
        {
          "output_type": "stream",
          "name": "stdout",
          "text": [
            "Доля совпавших предсказаний: 0.9333333333333333\n"
          ]
        }
      ]
    },
    {
      "cell_type": "markdown",
      "source": [
        "**RandomForestClassifier**"
      ],
      "metadata": {
        "id": "U48huU8iqw-c"
      }
    },
    {
      "cell_type": "code",
      "source": [
        "from sklearn.ensemble import RandomForestClassifier\n",
        "\n",
        "forest = RandomForestClassifier(max_depth=50, n_estimators=100)\n",
        "\n",
        "forest.fit(X_train_scaled, y_train)\n",
        "y_pred = forest.predict(X_test_scaled)\n",
        "\n",
        "print('Доля совпавших предсказаний: {}'.format(sum(y_pred == y_test) / len(y_pred)))"
      ],
      "metadata": {
        "colab": {
          "base_uri": "https://localhost:8080/"
        },
        "id": "d_BjnUIWq76o",
        "outputId": "110d3c38-d579-4b72-e17d-5be7922f28f0"
      },
      "execution_count": null,
      "outputs": [
        {
          "output_type": "stream",
          "name": "stdout",
          "text": [
            "Доля совпавших предсказаний: 0.9333333333333333\n"
          ]
        }
      ]
    },
    {
      "cell_type": "markdown",
      "source": [
        "До этого были получены результаты на каких-то фиксированных гиперпараметрах моделей. Попробуем оптимизировать процесс их подбора с помощью **GridSearchCV**"
      ],
      "metadata": {
        "id": "2IPUdQy4ryWz"
      }
    },
    {
      "cell_type": "code",
      "source": [
        "models = [\n",
        "    KNeighborsClassifier(),\n",
        "    LogisticRegression(),\n",
        "    DecisionTreeClassifier(),\n",
        "    RandomForestClassifier(),\n",
        "    ]\n",
        "\n",
        "parameters = [\n",
        "    ('n_neighbors', ),\n",
        "    ('max_iter', ),\n",
        "    ('max_depth', ),\n",
        "    ('max_depth', 'n_estimators', ),\n",
        "]\n",
        "\n",
        "grids = [\n",
        "    (np.arange(1, 30), ),\n",
        "    (np.arange(50, 100, 5), ),\n",
        "    (np.arange(1, 30), ),\n",
        "    (np.arange(1, 10), np.array([20, 50, 75, 100, 150]), ),\n",
        "    ]"
      ],
      "metadata": {
        "id": "VrmZNIYhr_ja"
      },
      "execution_count": null,
      "outputs": []
    },
    {
      "cell_type": "code",
      "source": [
        "from sklearn.model_selection import GridSearchCV"
      ],
      "metadata": {
        "id": "nwAp4dF2tmo8"
      },
      "execution_count": null,
      "outputs": []
    },
    {
      "cell_type": "code",
      "source": [
        "for model, parameter, grid in zip(models, parameters, grids):\n",
        "  grid_search_cv = GridSearchCV(\n",
        "      estimator=model,\n",
        "      param_grid=dict(zip(parameter, grid)),\n",
        "      n_jobs=-1,\n",
        "      scoring='accuracy'\n",
        "  )\n",
        "\n",
        "  grid_search_cv.fit(X_train_scaled, y_train)\n",
        "  best_model = grid_search_cv.best_estimator_\n",
        "\n",
        "  y_pred = best_model.predict(X_test_scaled)\n",
        "\n",
        "  print(f'model: {model.__class__.__name__}\\nbest_params: {grid_search_cv.best_params_}\\naccuracy: {sum(y_test == y_pred) / len(y_pred)}\\n')"
      ],
      "metadata": {
        "colab": {
          "base_uri": "https://localhost:8080/"
        },
        "id": "SV27_pgOtZe8",
        "outputId": "f73a5d7f-c91f-4f34-e0ba-26aaa7d08681"
      },
      "execution_count": null,
      "outputs": [
        {
          "output_type": "stream",
          "name": "stdout",
          "text": [
            "model: KNeighborsClassifier\n",
            "best_params: {'n_neighbors': 10}\n",
            "accuracy: 1.0\n",
            "\n",
            "model: LogisticRegression\n",
            "best_params: {'max_iter': 50}\n",
            "accuracy: 0.9666666666666667\n",
            "\n",
            "model: DecisionTreeClassifier\n",
            "best_params: {'max_depth': 3}\n",
            "accuracy: 0.9333333333333333\n",
            "\n",
            "model: RandomForestClassifier\n",
            "best_params: {'max_depth': 1, 'n_estimators': 150}\n",
            "accuracy: 0.9333333333333333\n",
            "\n"
          ]
        }
      ]
    }
  ]
}